{
 "cells": [
  {
   "cell_type": "code",
   "execution_count": 1,
   "metadata": {},
   "outputs": [],
   "source": [
    "import requests\n",
    "import json"
   ]
  },
  {
   "cell_type": "code",
   "execution_count": 2,
   "metadata": {},
   "outputs": [],
   "source": [
    "# We can get all matches from a date https://widgets.fn.sportradar.com/pdcsrcardiff/en/Etc:UTC/gismo/sport_matches/22/2022-05-13\n",
    "\n",
    "r = requests.get('https://widgets.fn.sportradar.com/pdcsrcardiff/en/Etc:UTC/gismo/sport_matches/22/2022-01-03')"
   ]
  },
  {
   "cell_type": "code",
   "execution_count": 3,
   "metadata": {},
   "outputs": [],
   "source": [
    "tournaments_on_day = r.json().get('doc')[0].get('data').get('sport').get('realcategories')[0].get('tournaments')"
   ]
  },
  {
   "cell_type": "code",
   "execution_count": 4,
   "metadata": {},
   "outputs": [
    {
     "name": "stdout",
     "output_type": "stream",
     "text": [
      "PDC World Championship 2022\n",
      "98486\n"
     ]
    }
   ],
   "source": [
    "for tournament in tournaments_on_day:\n",
    "    print(tournament.get('name'))\n",
    "    print(tournament.get('_id'))"
   ]
  },
  {
   "cell_type": "code",
   "execution_count": 5,
   "metadata": {},
   "outputs": [
    {
     "name": "stdout",
     "output_type": "stream",
     "text": [
      "30942733: Michael Smith vs Peter Wright\n"
     ]
    }
   ],
   "source": [
    "matches = tournaments_on_day[0].get('matches')\n",
    "for match in matches:\n",
    "    home = match.get('teams').get('home').get('name')\n",
    "    away = match.get('teams').get('away').get('name')\n",
    "    idd = match.get('_id')\n",
    "    print(f'{idd}: {home} vs {away}')"
   ]
  },
  {
   "cell_type": "code",
   "execution_count": 6,
   "metadata": {},
   "outputs": [
    {
     "name": "stdout",
     "output_type": "stream",
     "text": [
      "['first_server', 'match_started', 'periodstart', 'single_throw_dart', 'score_change_dart', 'periodscore', 'goal', 'match_ended']\n"
     ]
    }
   ],
   "source": [
    "# Then from ID we can get dart by dart using https://lmt.fn.sportradar.com/pdcsrcardiff/en/Etc:UTC/gismo/match_timeline/33619065\n",
    "\n",
    "r1 = requests.get(f'https://lmt.fn.sportradar.com/pdcsrcardiff/en/Etc:UTC/gismo/match_timeline/{idd}')\n",
    "events_list = []\n",
    "\n",
    "events = r1.json().get('doc')[0].get('data').get('events')\n",
    "for event in events:\n",
    "    event_type = event.get('type')\n",
    "    if event_type not in events_list:\n",
    "        events_list.append(event_type)\n",
    "\n",
    "print(events_list)"
   ]
  },
  {
   "cell_type": "code",
   "execution_count": 7,
   "metadata": {},
   "outputs": [
    {
     "data": {
      "text/plain": [
       "{'_doc': 'team',\n",
       " '_id': 1269065,\n",
       " '_sid': 22,\n",
       " 'uid': 35936,\n",
       " 'virtual': False,\n",
       " 'name': 'Michael Smith',\n",
       " 'mediumname': 'Michael Smith',\n",
       " 'abbr': 'SMI',\n",
       " 'nickname': None,\n",
       " 'iscountry': False,\n",
       " 'haslogo': True,\n",
       " 'surname': 'Smith'}"
      ]
     },
     "execution_count": 7,
     "metadata": {},
     "output_type": "execute_result"
    }
   ],
   "source": [
    "r1.json().get('doc')[0].get('data').get('match').get('teams').get('home')"
   ]
  },
  {
   "cell_type": "code",
   "execution_count": 8,
   "metadata": {},
   "outputs": [],
   "source": [
    "# We can get all of the data just frmo single_throw_dart\n",
    "\n",
    "all_dart_throws = []\n",
    "\n",
    "for event in events:\n",
    "    if event.get('type') == 'single_throw_dart':\n",
    "        all_dart_throws.append(event)\n"
   ]
  },
  {
   "cell_type": "code",
   "execution_count": 9,
   "metadata": {},
   "outputs": [
    {
     "name": "stdout",
     "output_type": "stream",
     "text": [
      "team: away\n",
      "points: 20\n",
      "segment: 10\n",
      "event_points: 20\n",
      "double_attempt: 0|0\n"
     ]
    }
   ],
   "source": [
    "relevant_keys = ['team', 'points', 'segment', 'event_points', 'double_attempt']\n",
    "for k in relevant_keys:\n",
    "    print(f'{k}: {all_dart_throws[0].get(k)}')"
   ]
  },
  {
   "cell_type": "code",
   "execution_count": 13,
   "metadata": {},
   "outputs": [],
   "source": [
    "import pandas as pd\n",
    "import datetime"
   ]
  },
  {
   "cell_type": "code",
   "execution_count": 22,
   "metadata": {},
   "outputs": [
    {
     "data": {
      "text/plain": [
       "True"
      ]
     },
     "execution_count": 22,
     "metadata": {},
     "output_type": "execute_result"
    }
   ],
   "source": [
    "pd.to_datetime(datetime.date.today()) + pd.DateOffset(1) > pd.to_datetime(datetime.date.today())"
   ]
  },
  {
   "cell_type": "code",
   "execution_count": null,
   "metadata": {},
   "outputs": [],
   "source": []
  }
 ],
 "metadata": {
  "interpreter": {
   "hash": "42400b98cdb8acb04d042fbbc230aec17385faca1ced857a25be1babb65c665d"
  },
  "kernelspec": {
   "display_name": "Python 3.9.1 ('wonderkid')",
   "language": "python",
   "name": "python3"
  },
  "language_info": {
   "codemirror_mode": {
    "name": "ipython",
    "version": 3
   },
   "file_extension": ".py",
   "mimetype": "text/x-python",
   "name": "python",
   "nbconvert_exporter": "python",
   "pygments_lexer": "ipython3",
   "version": "3.9.1"
  },
  "orig_nbformat": 4
 },
 "nbformat": 4,
 "nbformat_minor": 2
}
